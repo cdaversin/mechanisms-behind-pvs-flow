{
 "cells": [
  {
   "cell_type": "code",
   "execution_count": 1,
   "metadata": {},
   "outputs": [
    {
     "ename": "NameError",
     "evalue": "name 'os' is not defined",
     "output_type": "error",
     "traceback": [
      "\u001b[0;31m---------------------------------------------------------------------------\u001b[0m",
      "\u001b[0;31mNameError\u001b[0m                                 Traceback (most recent call last)",
      "\u001b[0;32m<ipython-input-1-ca32b1f6aece>\u001b[0m in \u001b[0;36m<module>\u001b[0;34m()\u001b[0m\n\u001b[1;32m      4\u001b[0m \u001b[0mmatplotlib\u001b[0m\u001b[0;34m.\u001b[0m\u001b[0mrc\u001b[0m\u001b[0;34m(\u001b[0m\u001b[0;34m'font'\u001b[0m\u001b[0;34m,\u001b[0m \u001b[0msize\u001b[0m\u001b[0;34m=\u001b[0m\u001b[0;36m34\u001b[0m\u001b[0;34m)\u001b[0m\u001b[0;34m\u001b[0m\u001b[0;34m\u001b[0m\u001b[0m\n\u001b[1;32m      5\u001b[0m \u001b[0;34m\u001b[0m\u001b[0m\n\u001b[0;32m----> 6\u001b[0;31m \u001b[0mhome\u001b[0m \u001b[0;34m=\u001b[0m \u001b[0mos\u001b[0m\u001b[0;34m.\u001b[0m\u001b[0mgetcwd\u001b[0m\u001b[0;34m(\u001b[0m\u001b[0;34m)\u001b[0m \u001b[0;34m+\u001b[0m \u001b[0;34m\"/../ParticlePositions/\"\u001b[0m\u001b[0;34m\u001b[0m\u001b[0;34m\u001b[0m\u001b[0m\n\u001b[0m\u001b[1;32m      7\u001b[0m \u001b[0;34m\u001b[0m\u001b[0m\n\u001b[1;32m      8\u001b[0m \u001b[0mmicrom\u001b[0m \u001b[0;34m=\u001b[0m \u001b[0;36m1e3\u001b[0m\u001b[0;34m\u001b[0m\u001b[0;34m\u001b[0m\u001b[0m\n",
      "\u001b[0;31mNameError\u001b[0m: name 'os' is not defined"
     ]
    }
   ],
   "source": [
    "import os\n",
    "from pylab import *\n",
    "from math import *\n",
    "\n",
    "matplotlib.rc('font', size=34)\n",
    "\n",
    "home = os.getcwd() + \"/../ParticlePositions/\"\n",
    "\n",
    "microm = 1e3\n",
    "\n",
    "p1 = loadtxt(home + \"positions_yellow.dat\").transpose()\n",
    "p2 = loadtxt(home + \"positions_purple.dat\").transpose()\n",
    "p3 = loadtxt(home + \"positions_blue.dat\").transpose()\n",
    "inlet = loadtxt(home + \"position_in.dat\").transpose()\n",
    "outlet = loadtxt(home + \"position_out.dat\").transpose()\n",
    "\n",
    "t1, x1, y1 = p1\n",
    "t2, x2, y2 = p2\n",
    "t3, x3, y3 = p3\n",
    "\n",
    "color_p1 = (255/255, 153/255, 0.0)\n",
    "color_p2 = (102/255, 0.0, 204/255)\n",
    "color_p3 = (0.0, 0.0, 204/255)\n",
    "color_in = (206/255, 24/255, 30/255)\n",
    "color_out = (0.0, 128/255, 0.0)\n",
    "\n",
    "# Scale : 40 microm = 25 mm\n",
    "# First point p1[yellow] (t=0) = (108.4, 31.3)\n",
    "distance_p1 = [(40.0/25.0)*sqrt( pow((x - 108.4),2) + pow((y - 31.3),2) ) for (x,y) in zip(x1,y1)]\n",
    "# First point p2[purple] (t=0) = (62.8, 83.5)\n",
    "distance_p2 = [(40.0/25.0)*sqrt( pow((x - 62.8),2) + pow((y - 83.5),2) ) for (x,y) in zip(x2,y2)]\n",
    "# First point p3[blue] (t=0) = (156.9, 163.9)\n",
    "distance_p3 = [(40.0/25.0)*sqrt( pow((x - 156.9),2) + pow((y - 163.9),2) ) for (x,y) in zip(x3,y3)]\n",
    "\n",
    "tin, pin = inlet\n",
    "# Switch sign\n",
    "pin = -pin\n",
    "\n",
    "tout, pout = outlet\n",
    "\n",
    "f, ax = subplots(1,1,figsize=(10,8))\n",
    "\n",
    "ax.set_prop_cycle(color=[color_p1, color_p2, color_p3, color_in, color_out])\n",
    "ax.plot(t1,distance_p1, t2,distance_p2, t3,distance_p3, linewidth = 4, linestyle='dashed')\n",
    "ax.plot(tin,pin*microm, tout,pout*microm, linewidth = 4)\n",
    "ax.legend(['p1', 'p2', 'p3', 'inlet', 'outlet'],prop={'size':28})\n",
    "ax.set_xlabel('Time (s)')\n",
    "ax.set_ylabel('Position (µm)')\n",
    "\n",
    "savefig('Fig3.png')\n",
    "show()\n"
   ]
  },
  {
   "cell_type": "code",
   "execution_count": null,
   "metadata": {},
   "outputs": [],
   "source": []
  }
 ],
 "metadata": {
  "kernelspec": {
   "display_name": "Python 3",
   "language": "python",
   "name": "python3"
  },
  "language_info": {
   "codemirror_mode": {
    "name": "ipython",
    "version": 3
   },
   "file_extension": ".py",
   "mimetype": "text/x-python",
   "name": "python",
   "nbconvert_exporter": "python",
   "pygments_lexer": "ipython3",
   "version": "3.6.9"
  }
 },
 "nbformat": 4,
 "nbformat_minor": 2
}
